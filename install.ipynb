{
 "cells": [
  {
   "cell_type": "markdown",
   "id": "cfe86fa9-cfad-4bd0-ac5c-fb520f242732",
   "metadata": {},
   "source": [
    "This notebook only needs to be run once on a new machine. After completing this notebook, you will be ready to run the example notebooks"
   ]
  },
  {
   "cell_type": "markdown",
   "id": "8996b8fb-056a-48b3-927e-063111940401",
   "metadata": {},
   "source": [
    "# Download example notebooks from cuopt-examples\n"
   ]
  },
  {
   "cell_type": "code",
   "execution_count": null,
   "id": "a68b7511-48e4-40c1-b691-632dcfd40d9c",
   "metadata": {},
   "outputs": [],
   "source": [
    "%%bash\n",
    "git clone -b branch-25.10 --single-branch https://github.com/NVIDIA/cuopt-examples\n",
    "rm -rf cuopt-examples/benchmark_apis"
   ]
  },
  {
   "cell_type": "markdown",
   "id": "e5b56fde-9716-41c9-88a7-50a51871e853",
   "metadata": {},
   "source": [
    "# Configure pip"
   ]
  },
  {
   "cell_type": "code",
   "execution_count": null,
   "id": "99985a15-1cef-4e4e-93ff-db9711afc5eb",
   "metadata": {},
   "outputs": [],
   "source": [
    "%%bash\n",
    "python -m ensurepip --upgrade\n",
    "ln -s ~/.venv/bin/pip3 ~/.venv/bin/pip"
   ]
  },
  {
   "cell_type": "markdown",
   "id": "c3c280a2-ce76-4734-ae40-60ea946541d2",
   "metadata": {},
   "source": [
    "# Install cuOpt"
   ]
  },
  {
   "cell_type": "code",
   "execution_count": null,
   "id": "a494ac68-10d7-419e-b892-eb5d786fbe63",
   "metadata": {},
   "outputs": [],
   "source": [
    "%%bash\n",
    "\n",
    "# If this fails, check the output of nvidia-smi visually and set the CUDA version, e.g. CUDA_VERSION=13\n",
    "CUDA_VERSION=$(nvidia-smi | grep \"CUDA Version\" | sed -n 's/.*CUDA Version: \\([0-9]*\\).*/\\1/p')\n",
    "\n",
    "pip install --upgrade --extra-index-url=https://pypi.nvidia.com cuopt-server-cu${CUDA_VERSION} cuopt-sh-client cuopt-cu${CUDA_VERSION}"
   ]
  },
  {
   "cell_type": "markdown",
   "id": "274fdd25-1317-45b3-9eba-6f46562545d1",
   "metadata": {},
   "source": [
    "### COPYRIGHT and LICENSE\n",
    "\n",
    "SPDX-FileCopyrightText: Copyright (c) 2025 NVIDIA CORPORATION & AFFILIATES. All rights reserved.\n",
    "SPDX-License-Identifier: Apache-2.0\n",
    "\n",
    "Licensed under the Apache License, Version 2.0 (the \"License\");\n",
    "you may not use this file except in compliance with the License.\n",
    "You may obtain a copy of the License at\n",
    "\n",
    "http://www.apache.org/licenses/LICENSE-2.0\n",
    "\n",
    "Unless required by applicable law or agreed to in writing, software\n",
    "distributed under the License is distributed on an \"AS IS\" BASIS,\n",
    "WITHOUT WARRANTIES OR CONDITIONS OF ANY KIND, either express or implied.\n",
    "See the License for the specific language governing permissions and\n",
    "limitations under the License.\n"
   ]
  },
  {
   "cell_type": "code",
   "execution_count": null,
   "id": "530a97d1-84dd-454e-bf79-5070bdc500d4",
   "metadata": {},
   "outputs": [],
   "source": []
  }
 ],
 "metadata": {
  "kernelspec": {
   "display_name": "Python 3 (ipykernel)",
   "language": "python",
   "name": "python3"
  },
  "language_info": {
   "codemirror_mode": {
    "name": "ipython",
    "version": 3
   },
   "file_extension": ".py",
   "mimetype": "text/x-python",
   "name": "python",
   "nbconvert_exporter": "python",
   "pygments_lexer": "ipython3",
   "version": "3.12.7"
  }
 },
 "nbformat": 4,
 "nbformat_minor": 5
}
